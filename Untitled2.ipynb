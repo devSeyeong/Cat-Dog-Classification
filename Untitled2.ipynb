{
  "nbformat": 4,
  "nbformat_minor": 0,
  "metadata": {
    "colab": {
      "provenance": []
    },
    "kernelspec": {
      "name": "python3",
      "display_name": "Python 3"
    },
    "language_info": {
      "name": "python"
    }
  },
  "cells": [
    {
      "cell_type": "code",
      "execution_count": 6,
      "metadata": {
        "colab": {
          "base_uri": "https://localhost:8080/"
        },
        "id": "S7VVNOzd6L0S",
        "outputId": "d9818544-db83-4bce-fae9-5a20cd6a1f63"
      },
      "outputs": [
        {
          "output_type": "stream",
          "name": "stdout",
          "text": [
            "Downloading dogs-vs-cats-redux-kernels-edition.zip to /content\n",
            " 98% 797M/814M [00:11<00:00, 101MB/s]\n",
            "100% 814M/814M [00:11<00:00, 72.8MB/s]\n"
          ]
        }
      ],
      "source": [
        "import os\n",
        "os.environ['KAGGLE_CONFIG_DIR'] = '/content/'\n",
        "\n",
        "!chmod 600 /content/kaggle.json\n",
        "\n",
        "!kaggle competitions download -c dogs-vs-cats-redux-kernels-edition --force"
      ]
    },
    {
      "cell_type": "code",
      "source": [
        "# 압축 해제\n",
        "!unzip -q dogs-vs-cats-redux-kernels-edition.zip -d .\n"
      ],
      "metadata": {
        "id": "6CNd89R1785N"
      },
      "execution_count": 7,
      "outputs": []
    },
    {
      "cell_type": "code",
      "source": [
        "!unzip -q train.zip -d ."
      ],
      "metadata": {
        "id": "2ATtwPVC9EUL"
      },
      "execution_count": 9,
      "outputs": []
    },
    {
      "cell_type": "code",
      "source": [
        "# 이미지 파일 갯수 세기\n",
        "len(os.listdir('/content/train/') )"
      ],
      "metadata": {
        "colab": {
          "base_uri": "https://localhost:8080/"
        },
        "id": "23Hh42Zp9Mnj",
        "outputId": "a40fbc65-e8fc-470c-c1fa-d1dff526e682"
      },
      "execution_count": 10,
      "outputs": [
        {
          "output_type": "execute_result",
          "data": {
            "text/plain": [
              "25000"
            ]
          },
          "metadata": {},
          "execution_count": 10
        }
      ]
    },
    {
      "cell_type": "code",
      "source": [
        "\n",
        "\n",
        "import tensorflow as tf\n",
        "import shutil\n",
        "\n",
        "for i in os.listdir('/content/train/'):\n",
        "  if 'cat' in i:\n",
        "    shutil.copyfile('/content/train/' + i, '/content/dataset/cat/' + i)\n",
        "  if 'dog' in i:\n",
        "    shutil.copyfile('/content/train/' + i, '/content/dataset/dog/' + i)"
      ],
      "metadata": {
        "id": "peTzqkxK9iws"
      },
      "execution_count": 16,
      "outputs": []
    },
    {
      "cell_type": "code",
      "source": [
        "train_ds = tf.keras.preprocessing.image_dataset_from_directory(\n",
        "    '/content/dataset/',\n",
        "    image_size=(64,64),\n",
        "    batch_size = 64,\n",
        "    subset='training',\n",
        "    validation_split=0.2,\n",
        "    seed=1234\n",
        ")\n",
        "val_ds = tf.keras.preprocessing.image_dataset_from_directory(\n",
        "    '/content/dataset/',\n",
        "    image_size=(64,64),\n",
        "    batch_size = 64,\n",
        "    subset='validation',\n",
        "    validation_split=0.2,\n",
        "    seed=1234\n",
        ")\n",
        "\n",
        "print(train_ds)"
      ],
      "metadata": {
        "colab": {
          "base_uri": "https://localhost:8080/"
        },
        "id": "gREch-m--mam",
        "outputId": "1ac0e17b-e974-4726-8ba0-d4d95e0fb3a0"
      },
      "execution_count": 17,
      "outputs": [
        {
          "output_type": "stream",
          "name": "stdout",
          "text": [
            "Found 25000 files belonging to 2 classes.\n",
            "Using 20000 files for training.\n",
            "Found 25000 files belonging to 2 classes.\n",
            "Using 5000 files for validation.\n",
            "<_PrefetchDataset element_spec=(TensorSpec(shape=(None, 64, 64, 3), dtype=tf.float32, name=None), TensorSpec(shape=(None,), dtype=tf.int32, name=None))>\n"
          ]
        }
      ]
    },
    {
      "cell_type": "code",
      "source": [
        "%rm -rf dataset"
      ],
      "metadata": {
        "id": "pSb8bxep68HL"
      },
      "execution_count": 14,
      "outputs": []
    },
    {
      "cell_type": "code",
      "source": [
        "os.mkdir('/content/dataset')\n",
        "os.mkdir('/content/dataset/cat')\n",
        "os.mkdir('/content/dataset/dog')"
      ],
      "metadata": {
        "id": "t4fAHCov7Mio"
      },
      "execution_count": 15,
      "outputs": []
    },
    {
      "cell_type": "code",
      "source": [
        "import matplotlib.pyplot as plt\n",
        "\n",
        "# batch data 중 하나를 뽑아옴\n",
        "for i in train_ds.take(1):\n",
        "  print(i)\n",
        "  plt.imshow(i[0][0].numpy().astype('uint8'))\n",
        "  plt.show()\n"
      ],
      "metadata": {
        "colab": {
          "base_uri": "https://localhost:8080/",
          "height": 1000
        },
        "id": "RJvH51Me7j2C",
        "outputId": "3fad7248-e4c2-45c3-8bdf-f43b416bfae2"
      },
      "execution_count": 21,
      "outputs": [
        {
          "output_type": "stream",
          "name": "stdout",
          "text": [
            "(<tf.Tensor: shape=(64, 64, 64, 3), dtype=float32, numpy=\n",
            "array([[[[236.2312   , 234.2312   , 221.2312   ],\n",
            "         [227.56592  , 225.56592  , 212.56592  ],\n",
            "         [220.03125  , 221.03125  , 207.03125  ],\n",
            "         ...,\n",
            "         [221.03125  , 228.125    , 220.09375  ],\n",
            "         [217.3811   , 224.3811   , 216.3811   ],\n",
            "         [208.00928  , 216.95166  , 209.41089  ]],\n",
            "\n",
            "        [[231.1875   , 232.96094  , 222.64062  ],\n",
            "         [222.49487  , 224.26831  , 213.948    ],\n",
            "         [213.15625  , 217.83594  , 202.60938  ],\n",
            "         ...,\n",
            "         [220.22656  , 228.28906  , 217.28906  ],\n",
            "         [217.39575  , 225.39575  , 212.39575  ],\n",
            "         [209.54077  , 217.27173  , 205.59375  ]],\n",
            "\n",
            "        [[234.13306  , 235.71118  , 228.844    ],\n",
            "         [220.97803  , 223.26709  , 212.84521  ],\n",
            "         [216.19116  , 220.98682  , 206.49341  ],\n",
            "         ...,\n",
            "         [225.07153  , 231.62744  , 220.84497  ],\n",
            "         [216.96655  , 224.96655  , 213.38843  ],\n",
            "         [211.39014  , 218.20264  , 207.21826  ]],\n",
            "\n",
            "        ...,\n",
            "\n",
            "        [[192.30469  , 190.30469  , 175.30469  ],\n",
            "         [181.42188  , 179.42188  , 164.42188  ],\n",
            "         [180.60938  , 181.60938  , 165.60938  ],\n",
            "         ...,\n",
            "         [136.78662  , 127.14722  , 117.34253  ],\n",
            "         [109.907715 , 101.61865  ,  82.88574  ],\n",
            "         [102.02246  ,  89.08545  ,  72.726074 ]],\n",
            "\n",
            "        [[194.03906  , 192.03906  , 177.03906  ],\n",
            "         [189.55469  , 187.55469  , 172.55469  ],\n",
            "         [182.97583  , 180.97583  , 165.97583  ],\n",
            "         ...,\n",
            "         [128.99292  , 125.05542  , 115.96167  ],\n",
            "         [110.63037  , 101.06787  ,  88.84912  ],\n",
            "         [108.54077  ,  98.140625 ,  81.69531  ]],\n",
            "\n",
            "        [[188.21875  , 186.21875  , 171.21875  ],\n",
            "         [184.68579  , 182.68579  , 167.68579  ],\n",
            "         [181.74219  , 179.74219  , 164.74219  ],\n",
            "         ...,\n",
            "         [125.843994 , 124.68701  , 109.468506 ],\n",
            "         [123.09277  , 118.35327  , 103.933105 ],\n",
            "         [ 99.546875 ,  95.7688   ,  81.17505  ]]],\n",
            "\n",
            "\n",
            "       [[[232.23438  , 237.23438  , 240.23438  ],\n",
            "         [232.29688  , 237.29688  , 240.29688  ],\n",
            "         [232.       , 237.       , 240.       ],\n",
            "         ...,\n",
            "         [190.65625  , 190.82812  , 189.96875  ],\n",
            "         [188.       , 188.       , 188.       ],\n",
            "         [185.23438  , 185.23438  , 185.23438  ]],\n",
            "\n",
            "        [[232.23438  , 237.23438  , 240.23438  ],\n",
            "         [232.29688  , 237.29688  , 240.29688  ],\n",
            "         [232.       , 237.       , 240.       ],\n",
            "         ...,\n",
            "         [190.65625  , 190.82812  , 189.96875  ],\n",
            "         [188.       , 188.       , 188.       ],\n",
            "         [185.23438  , 185.23438  , 185.23438  ]],\n",
            "\n",
            "        [[232.23438  , 237.23438  , 240.23438  ],\n",
            "         [232.29688  , 237.29688  , 240.29688  ],\n",
            "         [232.       , 237.       , 240.       ],\n",
            "         ...,\n",
            "         [190.82812  , 191.       , 190.14062  ],\n",
            "         [189.       , 189.       , 189.       ],\n",
            "         [186.23438  , 186.23438  , 186.23438  ]],\n",
            "\n",
            "        ...,\n",
            "\n",
            "        [[198.84863  , 195.95117  , 186.64355  ],\n",
            "         [185.86328  , 182.86328  , 173.86328  ],\n",
            "         [187.90332  , 184.90332  , 175.90332  ],\n",
            "         ...,\n",
            "         [155.45898  , 152.94336  , 142.31836  ],\n",
            "         [215.21289  , 213.21289  , 199.08789  ],\n",
            "         [198.31934  , 196.31934  , 182.19434  ]],\n",
            "\n",
            "        [[182.04785  , 180.04785  , 167.04785  ],\n",
            "         [189.29199  , 186.58887  , 176.69824  ],\n",
            "         [190.83887  , 187.83887  , 180.83887  ],\n",
            "         ...,\n",
            "         [194.4961   , 191.66797  , 182.15234  ],\n",
            "         [198.93066  , 195.93066  , 188.93066  ],\n",
            "         [122.74414  , 119.74414  , 112.74414  ]],\n",
            "\n",
            "        [[180.15625  , 178.15625  , 165.15625  ],\n",
            "         [191.64355  , 188.94043  , 179.0498   ],\n",
            "         [189.79688  , 186.79688  , 179.79688  ],\n",
            "         ...,\n",
            "         [204.5957   , 201.76758  , 192.25195  ],\n",
            "         [206.0625   , 203.0625   , 194.6875   ],\n",
            "         [214.59863  , 211.59863  , 203.22363  ]]],\n",
            "\n",
            "\n",
            "       [[[ 61.882812 ,  83.429016 ,  77.009155 ],\n",
            "         [ 35.570312 ,  35.22455  ,  27.48059  ],\n",
            "         [ 30.51117  ,  26.51117  ,  17.51117  ],\n",
            "         ...,\n",
            "         [ 27.371643 ,  20.371643 ,  10.371643 ],\n",
            "         [ 36.73639  ,  33.73639  ,  14.736389 ],\n",
            "         [ 29.367188 ,  26.570312 ,  14.96875  ]],\n",
            "\n",
            "        [[ 76.11719  ,  96.747986 ,  94.47278  ],\n",
            "         [ 33.484375 ,  32.679688 ,  28.363647 ],\n",
            "         [ 30.78125  ,  26.78125  ,  17.78125  ],\n",
            "         ...,\n",
            "         [ 28.94983  ,  18.09497  ,   9.381775 ],\n",
            "         [ 36.867188 ,  29.867188 ,  11.8671875],\n",
            "         [ 28.367188 ,  20.570312 ,  10.96875  ]],\n",
            "\n",
            "        [[ 83.92969  , 104.120544 , 105.71765  ],\n",
            "         [ 31.851562 ,  30.046875 ,  30.04132  ],\n",
            "         [ 31.756653 ,  27.756653 ,  18.756653 ],\n",
            "         ...,\n",
            "         [ 28.300049 ,  15.303528 ,   7.1550903],\n",
            "         [ 43.390625 ,  34.06476  ,  16.974304 ],\n",
            "         [ 34.348206 ,  25.128357 ,  15.979919 ]],\n",
            "\n",
            "        ...,\n",
            "\n",
            "        [[182.90851  , 192.90851  , 191.90851  ],\n",
            "         [182.1217   , 192.1217   , 191.1217   ],\n",
            "         [178.44965  , 187.4809   , 184.44965  ],\n",
            "         ...,\n",
            "         [203.88336  , 217.88336  , 218.87555  ],\n",
            "         [200.55261  , 214.55261  , 214.55261  ],\n",
            "         [183.89844  , 197.89844  , 197.89844  ]],\n",
            "\n",
            "        [[192.83795  , 202.83795  , 201.83795  ],\n",
            "         [189.15198  , 199.15198  , 198.15198  ],\n",
            "         [181.58368  , 193.61493  , 189.56805  ],\n",
            "         ...,\n",
            "         [198.32239  , 212.32239  , 213.31458  ],\n",
            "         [186.81     , 200.81     , 200.81     ],\n",
            "         [167.88635  , 181.88635  , 181.88635  ]],\n",
            "\n",
            "        [[181.42322  , 196.42322  , 191.42322  ],\n",
            "         [179.70111  , 194.70111  , 189.70111  ],\n",
            "         [181.72992  , 196.7221   , 191.76117  ],\n",
            "         ...,\n",
            "         [185.55469  , 199.55469  , 199.55469  ],\n",
            "         [189.69128  , 203.69128  , 203.69128  ],\n",
            "         [166.73303  , 180.73303  , 180.73303  ]]],\n",
            "\n",
            "\n",
            "       ...,\n",
            "\n",
            "\n",
            "       [[[ 98.17139  ,  93.17139  ,  89.17139  ],\n",
            "         [100.       ,  95.       ,  91.       ],\n",
            "         [ 98.9375   ,  94.90625  ,  86.       ],\n",
            "         ...,\n",
            "         [130.       , 123.       , 130.       ],\n",
            "         [134.87793  , 127.87793  , 134.87793  ],\n",
            "         [139.40625  , 132.40625  , 139.40625  ]],\n",
            "\n",
            "        [[ 93.862305 ,  88.862305 ,  84.862305 ],\n",
            "         [ 97.5625   ,  92.5625   ,  88.5625   ],\n",
            "         [ 99.265625 ,  95.234375 ,  86.328125 ],\n",
            "         ...,\n",
            "         [131.23438  , 124.234375 , 131.23438  ],\n",
            "         [133.5044   , 126.504395 , 133.5044   ],\n",
            "         [139.       , 132.       , 139.       ]],\n",
            "\n",
            "        [[ 93.680176 ,  88.35205  ,  84.5708   ],\n",
            "         [ 97.78125  ,  92.5625   ,  88.34375  ],\n",
            "         [ 94.78125  ,  90.75     ,  81.84375  ],\n",
            "         ...,\n",
            "         [134.01904  , 127.01904  , 134.01904  ],\n",
            "         [133.8291   , 126.8291   , 133.8291   ],\n",
            "         [141.96875  , 134.96875  , 141.96875  ]],\n",
            "\n",
            "        ...,\n",
            "\n",
            "        [[ 38.856934 ,  34.856934 ,  31.856934 ],\n",
            "         [ 27.78125  ,  29.       ,  24.       ],\n",
            "         [ 27.149414 ,  28.180664 ,  23.180664 ],\n",
            "         ...,\n",
            "         [125.583496 , 119.16504  , 123.305664 ],\n",
            "         [130.91455  , 124.91455  , 128.91455  ],\n",
            "         [128.05762  , 122.05762  , 122.87012  ]],\n",
            "\n",
            "        [[ 33.623535 ,  29.623535 ,  30.623535 ],\n",
            "         [ 23.33496  ,  23.77246  ,  23.55371  ],\n",
            "         [ 30.686523 ,  31.717773 ,  26.717773 ],\n",
            "         ...,\n",
            "         [127.242676 , 121.242676 , 125.13428  ],\n",
            "         [126.39307  , 120.39307  , 124.39307  ],\n",
            "         [122.265625 , 115.82959  , 121.137695 ]],\n",
            "\n",
            "        [[ 27.844238 ,  25.844238 ,  28.844238 ],\n",
            "         [ 28.078125 ,  33.078125 ,  27.078125 ],\n",
            "         [ 29.09375  ,  36.09375  ,  28.09375  ],\n",
            "         ...,\n",
            "         [129.10205  , 116.10205  , 125.1333   ],\n",
            "         [127.543945 , 114.543945 , 123.543945 ],\n",
            "         [125.828125 , 112.828125 , 121.828125 ]]],\n",
            "\n",
            "\n",
            "       [[[153.7663   , 143.7663   , 142.7663   ],\n",
            "         [169.15198  , 159.15198  , 158.15198  ],\n",
            "         [161.19415  , 161.90955  , 175.36377  ],\n",
            "         ...,\n",
            "         [182.54126  , 182.53345  , 192.42407  ],\n",
            "         [210.7951   , 206.7951   , 207.62726  ],\n",
            "         [199.71405  , 196.71405  , 188.91718  ]],\n",
            "\n",
            "        [[148.87122  , 142.87122  , 144.87122  ],\n",
            "         [166.7127   , 160.7127   , 162.7127   ],\n",
            "         [161.93298  , 158.8783   , 169.28125  ],\n",
            "         ...,\n",
            "         [189.22882  , 190.21545  , 194.84375  ],\n",
            "         [214.13885  , 210.19531  , 207.0824   ],\n",
            "         [193.93951  , 191.93951  , 179.82434  ]],\n",
            "\n",
            "        [[154.65735  , 152.65735  , 155.65735  ],\n",
            "         [163.68646  , 161.68646  , 164.68646  ],\n",
            "         [165.27576  , 166.15741  , 168.1742   ],\n",
            "         ...,\n",
            "         [208.78125  , 209.77344  , 213.66638  ],\n",
            "         [217.88281  , 214.58594  , 207.73438  ],\n",
            "         [202.60828  , 201.92969  , 189.26898  ]],\n",
            "\n",
            "        ...,\n",
            "\n",
            "        [[185.33813  , 179.63501  , 179.60486  ],\n",
            "         [155.80743  , 160.61212  , 167.19806  ],\n",
            "         [160.0564   , 158.89783  , 163.89899  ],\n",
            "         ...,\n",
            "         [138.1872   , 166.20282  , 188.23407  ],\n",
            "         [123.93921  , 143.7439   , 169.93365  ],\n",
            "         [141.08337  , 165.93048  , 192.68048  ]],\n",
            "\n",
            "        [[175.6507   , 173.70917  , 175.48462  ],\n",
            "         [176.68396  , 173.59625  , 173.95563  ],\n",
            "         [152.82135  , 159.24323  , 165.24323  ],\n",
            "         ...,\n",
            "         [148.34479  , 176.31354  , 198.36041  ],\n",
            "         [151.1048   , 163.48761  , 203.84875  ],\n",
            "         [ 95.58771  , 121.58771  , 148.5877   ]],\n",
            "\n",
            "        [[171.22144  , 166.22144  , 170.22144  ],\n",
            "         [182.97052  , 180.18927  , 183.38458  ],\n",
            "         [198.34607  , 202.307    , 205.32263  ],\n",
            "         ...,\n",
            "         [171.84381  , 197.7735   , 222.81256  ],\n",
            "         [119.25604  , 144.6701   , 169.2326   ],\n",
            "         [103.14197  , 125.34509  , 156.3451   ]]],\n",
            "\n",
            "\n",
            "       [[[  4.1713867,   8.171387 ,   7.1713867],\n",
            "         [  9.32959  ,  13.32959  ,  12.32959  ],\n",
            "         [ 10.0625   ,  10.0625   ,  10.0625   ],\n",
            "         ...,\n",
            "         [162.69238  ,  25.471191 ,  29.955566 ],\n",
            "         [158.21875  ,  24.12207  ,  29.23291  ],\n",
            "         [153.56396  ,  20.782715 ,  27.376465 ]],\n",
            "\n",
            "        [[  6.       ,  10.       ,   9.       ],\n",
            "         [  6.78125  ,  10.78125  ,   9.78125  ],\n",
            "         [ 11.991699 ,  11.991699 ,  11.991699 ],\n",
            "         ...,\n",
            "         [165.79492  ,  25.037598 ,  28.365723 ],\n",
            "         [160.07129  ,  22.21875  ,  28.78125  ],\n",
            "         [155.35498  ,  20.94873  ,  27.94873  ]],\n",
            "\n",
            "        [[  8.       ,  12.064941 ,  10.870117 ],\n",
            "         [  6.78125  ,  10.866699 ,   9.610352 ],\n",
            "         [  5.890625 ,   6.102539 ,   5.996582 ],\n",
            "         ...,\n",
            "         [166.8125   ,  21.875    ,  26.84375  ],\n",
            "         [161.38965  ,  20.       ,  27.5625   ],\n",
            "         [157.50586  ,  22.5708   ,  29.5708   ]],\n",
            "\n",
            "        ...,\n",
            "\n",
            "        [[ 32.74707  ,  42.74707  ,  33.74707  ],\n",
            "         [ 17.533203 ,  29.533203 ,  19.533203 ],\n",
            "         [ 36.720215 ,  48.720215 ,  36.720215 ],\n",
            "         ...,\n",
            "         [ 36.49463  ,  39.600586 ,  28.600586 ],\n",
            "         [ 25.857422 ,  32.07617  ,  21.529297 ],\n",
            "         [ 15.410156 ,  21.222656 ,  14.222656 ]],\n",
            "\n",
            "        [[ 10.686035 ,  23.686035 ,  13.686035 ],\n",
            "         [ 17.066895 ,  23.629395 ,  15.848145 ],\n",
            "         [ 40.79834  ,  48.79834  ,  37.79834  ],\n",
            "         ...,\n",
            "         [ 17.854492 ,  31.277344 ,  16.628418 ],\n",
            "         [ 20.23877  ,  20.23877  ,  11.80127  ],\n",
            "         [ 19.308594 ,  22.152344 ,  18.121094 ]],\n",
            "\n",
            "        [[ 18.266113 ,  25.266113 ,  17.266113 ],\n",
            "         [ 22.23877  ,  25.02002  ,  13.58252  ],\n",
            "         [ 22.817383 ,  30.817383 ,  17.817383 ],\n",
            "         ...,\n",
            "         [ 33.260742 ,  49.229492 ,  39.323242 ],\n",
            "         [ 56.114746 ,  52.552246 ,  40.333496 ],\n",
            "         [ 16.52832  ,  23.55957  ,  16.15332  ]]]], dtype=float32)>, <tf.Tensor: shape=(64,), dtype=int32, numpy=\n",
            "array([0, 1, 0, 0, 1, 1, 1, 1, 0, 1, 0, 1, 1, 0, 0, 1, 1, 0, 1, 1, 1, 1,\n",
            "       1, 1, 0, 0, 1, 0, 0, 1, 0, 0, 1, 0, 1, 0, 0, 0, 1, 1, 1, 1, 0, 0,\n",
            "       1, 0, 1, 0, 0, 1, 1, 0, 0, 0, 1, 0, 1, 0, 1, 1, 0, 0, 1, 1],\n",
            "      dtype=int32)>)\n"
          ]
        },
        {
          "output_type": "display_data",
          "data": {
            "text/plain": [
              "<Figure size 640x480 with 1 Axes>"
            ],
            "image/png": "[encoded data removed]"
          },
          "metadata": {}
        }
      ]
    },
    {
      "cell_type": "code",
      "source": [
        "# 0 에서 1 로 압축\n",
        "def 전처리함수(i, 정답):\n",
        "  i = tf.cast(i/255.0, tf.float32)\n",
        "  return i, 정답\n",
        "\n",
        "train_ds  = train_ds.map(전처리함수)"
      ],
      "metadata": {
        "id": "Yu5XPeu--hFy"
      },
      "execution_count": 24,
      "outputs": []
    },
    {
      "cell_type": "code",
      "source": [
        "model = tf.keras.Sequential([\n",
        "    tf.keras.layers.Conv2D(32, (3,3), padding=\"same\", activation='relu', input_shape=(64,64,3)),\n",
        "    tf.keras.layers.MaxPooling2D((2,2)),\n",
        "    tf.keras.layers.Conv2D(64, (3,3), padding=\"same\", activation='relu'),\n",
        "    tf.keras.layers.MaxPooling2D((2,2)),\n",
        "    tf.keras.layers.Dropout(0.2),\n",
        "    tf.keras.layers.Conv2D(128, (3,3), padding=\"same\", activation='relu'),\n",
        "    tf.keras.layers.MaxPooling2D((2,2)),\n",
        "    tf.keras.layers.Flatten(),\n",
        "    tf.keras.layers.Dense(128, activation='relu'),\n",
        "     tf.keras.layers.Dropout(0.2),\n",
        "    tf.keras.layers.Dense(1, activation='sigmoid')\n",
        "])\n",
        "\n",
        "model.summary()\n",
        "\n",
        "model.compile(loss=\"binary_crossentropy\", optimizer=\"adam\", metrics=['accuracy'])\n",
        "\n",
        "model.fit(train_ds, validation_data = val_ds, epochs=5 )"
      ],
      "metadata": {
        "colab": {
          "base_uri": "https://localhost:8080/",
          "height": 748
        },
        "id": "Q7tWC8v488YK",
        "outputId": "81b2ff63-3a76-4386-9dbb-0852772639f3"
      },
      "execution_count": 25,
      "outputs": [
        {
          "output_type": "stream",
          "name": "stderr",
          "text": [
            "/usr/local/lib/python3.10/dist-packages/keras/src/layers/convolutional/base_conv.py:107: UserWarning: Do not pass an `input_shape`/`input_dim` argument to a layer. When using Sequential models, prefer using an `Input(shape)` object as the first layer in the model instead.\n",
            "  super().__init__(activity_regularizer=activity_regularizer, **kwargs)\n"
          ]
        },
        {
          "output_type": "display_data",
          "data": {
            "text/plain": [
              "\u001b[1mModel: \"sequential_2\"\u001b[0m\n"
            ],
            "text/html": [
              "<pre style=\"white-space:pre;overflow-x:auto;line-height:normal;font-family:Menlo,'DejaVu Sans Mono',consolas,'Courier New',monospace\"><span style=\"font-weight: bold\">Model: \"sequential_2\"</span>\n",
              "</pre>\n"
            ]
          },
          "metadata": {}
        },
        {
          "output_type": "display_data",
          "data": {
            "text/plain": [
              "┏━━━━━━━━━━━━━━━━━━━━━━━━━━━━━━━━━━━━━━┳━━━━━━━━━━━━━━━━━━━━━━━━━━━━━┳━━━━━━━━━━━━━━━━━┓\n",
              "┃\u001b[1m \u001b[0m\u001b[1mLayer (type)                        \u001b[0m\u001b[1m \u001b[0m┃\u001b[1m \u001b[0m\u001b[1mOutput Shape               \u001b[0m\u001b[1m \u001b[0m┃\u001b[1m \u001b[0m\u001b[1m        Param #\u001b[0m\u001b[1m \u001b[0m┃\n",
              "┡━━━━━━━━━━━━━━━━━━━━━━━━━━━━━━━━━━━━━━╇━━━━━━━━━━━━━━━━━━━━━━━━━━━━━╇━━━━━━━━━━━━━━━━━┩\n",
              "│ conv2d_6 (\u001b[38;5;33mConv2D\u001b[0m)                    │ (\u001b[38;5;45mNone\u001b[0m, \u001b[38;5;34m64\u001b[0m, \u001b[38;5;34m64\u001b[0m, \u001b[38;5;34m32\u001b[0m)          │             \u001b[38;5;34m896\u001b[0m │\n",
              "├──────────────────────────────────────┼─────────────────────────────┼─────────────────┤\n",
              "│ max_pooling2d_6 (\u001b[38;5;33mMaxPooling2D\u001b[0m)       │ (\u001b[38;5;45mNone\u001b[0m, \u001b[38;5;34m32\u001b[0m, \u001b[38;5;34m32\u001b[0m, \u001b[38;5;34m32\u001b[0m)          │               \u001b[38;5;34m0\u001b[0m │\n",
              "├──────────────────────────────────────┼─────────────────────────────┼─────────────────┤\n",
              "│ conv2d_7 (\u001b[38;5;33mConv2D\u001b[0m)                    │ (\u001b[38;5;45mNone\u001b[0m, \u001b[38;5;34m32\u001b[0m, \u001b[38;5;34m32\u001b[0m, \u001b[38;5;34m64\u001b[0m)          │          \u001b[38;5;34m18,496\u001b[0m │\n",
              "├──────────────────────────────────────┼─────────────────────────────┼─────────────────┤\n",
              "│ max_pooling2d_7 (\u001b[38;5;33mMaxPooling2D\u001b[0m)       │ (\u001b[38;5;45mNone\u001b[0m, \u001b[38;5;34m16\u001b[0m, \u001b[38;5;34m16\u001b[0m, \u001b[38;5;34m64\u001b[0m)          │               \u001b[38;5;34m0\u001b[0m │\n",
              "├──────────────────────────────────────┼─────────────────────────────┼─────────────────┤\n",
              "│ dropout_4 (\u001b[38;5;33mDropout\u001b[0m)                  │ (\u001b[38;5;45mNone\u001b[0m, \u001b[38;5;34m16\u001b[0m, \u001b[38;5;34m16\u001b[0m, \u001b[38;5;34m64\u001b[0m)          │               \u001b[38;5;34m0\u001b[0m │\n",
              "├──────────────────────────────────────┼─────────────────────────────┼─────────────────┤\n",
              "│ conv2d_8 (\u001b[38;5;33mConv2D\u001b[0m)                    │ (\u001b[38;5;45mNone\u001b[0m, \u001b[38;5;34m16\u001b[0m, \u001b[38;5;34m16\u001b[0m, \u001b[38;5;34m128\u001b[0m)         │          \u001b[38;5;34m73,856\u001b[0m │\n",
              "├──────────────────────────────────────┼─────────────────────────────┼─────────────────┤\n",
              "│ max_pooling2d_8 (\u001b[38;5;33mMaxPooling2D\u001b[0m)       │ (\u001b[38;5;45mNone\u001b[0m, \u001b[38;5;34m8\u001b[0m, \u001b[38;5;34m8\u001b[0m, \u001b[38;5;34m128\u001b[0m)           │               \u001b[38;5;34m0\u001b[0m │\n",
              "├──────────────────────────────────────┼─────────────────────────────┼─────────────────┤\n",
              "│ flatten_2 (\u001b[38;5;33mFlatten\u001b[0m)                  │ (\u001b[38;5;45mNone\u001b[0m, \u001b[38;5;34m8192\u001b[0m)                │               \u001b[38;5;34m0\u001b[0m │\n",
              "├──────────────────────────────────────┼─────────────────────────────┼─────────────────┤\n",
              "│ dense_4 (\u001b[38;5;33mDense\u001b[0m)                      │ (\u001b[38;5;45mNone\u001b[0m, \u001b[38;5;34m128\u001b[0m)                 │       \u001b[38;5;34m1,048,704\u001b[0m │\n",
              "├──────────────────────────────────────┼─────────────────────────────┼─────────────────┤\n",
              "│ dropout_5 (\u001b[38;5;33mDropout\u001b[0m)                  │ (\u001b[38;5;45mNone\u001b[0m, \u001b[38;5;34m128\u001b[0m)                 │               \u001b[38;5;34m0\u001b[0m │\n",
              "├──────────────────────────────────────┼─────────────────────────────┼─────────────────┤\n",
              "│ dense_5 (\u001b[38;5;33mDense\u001b[0m)                      │ (\u001b[38;5;45mNone\u001b[0m, \u001b[38;5;34m1\u001b[0m)                   │             \u001b[38;5;34m129\u001b[0m │\n",
              "└──────────────────────────────────────┴─────────────────────────────┴─────────────────┘\n"
            ],
            "text/html": [
              "<pre style=\"white-space:pre;overflow-x:auto;line-height:normal;font-family:Menlo,'DejaVu Sans Mono',consolas,'Courier New',monospace\">┏━━━━━━━━━━━━━━━━━━━━━━━━━━━━━━━━━━━━━━┳━━━━━━━━━━━━━━━━━━━━━━━━━━━━━┳━━━━━━━━━━━━━━━━━┓\n",
              "┃<span style=\"font-weight: bold\"> Layer (type)                         </span>┃<span style=\"font-weight: bold\"> Output Shape                </span>┃<span style=\"font-weight: bold\">         Param # </span>┃\n",
              "┡━━━━━━━━━━━━━━━━━━━━━━━━━━━━━━━━━━━━━━╇━━━━━━━━━━━━━━━━━━━━━━━━━━━━━╇━━━━━━━━━━━━━━━━━┩\n",
              "│ conv2d_6 (<span style=\"color: #0087ff; text-decoration-color: #0087ff\">Conv2D</span>)                    │ (<span style=\"color: #00d7ff; text-decoration-color: #00d7ff\">None</span>, <span style=\"color: #00af00; text-decoration-color: #00af00\">64</span>, <span style=\"color: #00af00; text-decoration-color: #00af00\">64</span>, <span style=\"color: #00af00; text-decoration-color: #00af00\">32</span>)          │             <span style=\"color: #00af00; text-decoration-color: #00af00\">896</span> │\n",
              "├──────────────────────────────────────┼─────────────────────────────┼─────────────────┤\n",
              "│ max_pooling2d_6 (<span style=\"color: #0087ff; text-decoration-color: #0087ff\">MaxPooling2D</span>)       │ (<span style=\"color: #00d7ff; text-decoration-color: #00d7ff\">None</span>, <span style=\"color: #00af00; text-decoration-color: #00af00\">32</span>, <span style=\"color: #00af00; text-decoration-color: #00af00\">32</span>, <span style=\"color: #00af00; text-decoration-color: #00af00\">32</span>)          │               <span style=\"color: #00af00; text-decoration-color: #00af00\">0</span> │\n",
              "├──────────────────────────────────────┼─────────────────────────────┼─────────────────┤\n",
              "│ conv2d_7 (<span style=\"color: #0087ff; text-decoration-color: #0087ff\">Conv2D</span>)                    │ (<span style=\"color: #00d7ff; text-decoration-color: #00d7ff\">None</span>, <span style=\"color: #00af00; text-decoration-color: #00af00\">32</span>, <span style=\"color: #00af00; text-decoration-color: #00af00\">32</span>, <span style=\"color: #00af00; text-decoration-color: #00af00\">64</span>)          │          <span style=\"color: #00af00; text-decoration-color: #00af00\">18,496</span> │\n",
              "├──────────────────────────────────────┼─────────────────────────────┼─────────────────┤\n",
              "│ max_pooling2d_7 (<span style=\"color: #0087ff; text-decoration-color: #0087ff\">MaxPooling2D</span>)       │ (<span style=\"color: #00d7ff; text-decoration-color: #00d7ff\">None</span>, <span style=\"color: #00af00; text-decoration-color: #00af00\">16</span>, <span style=\"color: #00af00; text-decoration-color: #00af00\">16</span>, <span style=\"color: #00af00; text-decoration-color: #00af00\">64</span>)          │               <span style=\"color: #00af00; text-decoration-color: #00af00\">0</span> │\n",
              "├──────────────────────────────────────┼─────────────────────────────┼─────────────────┤\n",
              "│ dropout_4 (<span style=\"color: #0087ff; text-decoration-color: #0087ff\">Dropout</span>)                  │ (<span style=\"color: #00d7ff; text-decoration-color: #00d7ff\">None</span>, <span style=\"color: #00af00; text-decoration-color: #00af00\">16</span>, <span style=\"color: #00af00; text-decoration-color: #00af00\">16</span>, <span style=\"color: #00af00; text-decoration-color: #00af00\">64</span>)          │               <span style=\"color: #00af00; text-decoration-color: #00af00\">0</span> │\n",
              "├──────────────────────────────────────┼─────────────────────────────┼─────────────────┤\n",
              "│ conv2d_8 (<span style=\"color: #0087ff; text-decoration-color: #0087ff\">Conv2D</span>)                    │ (<span style=\"color: #00d7ff; text-decoration-color: #00d7ff\">None</span>, <span style=\"color: #00af00; text-decoration-color: #00af00\">16</span>, <span style=\"color: #00af00; text-decoration-color: #00af00\">16</span>, <span style=\"color: #00af00; text-decoration-color: #00af00\">128</span>)         │          <span style=\"color: #00af00; text-decoration-color: #00af00\">73,856</span> │\n",
              "├──────────────────────────────────────┼─────────────────────────────┼─────────────────┤\n",
              "│ max_pooling2d_8 (<span style=\"color: #0087ff; text-decoration-color: #0087ff\">MaxPooling2D</span>)       │ (<span style=\"color: #00d7ff; text-decoration-color: #00d7ff\">None</span>, <span style=\"color: #00af00; text-decoration-color: #00af00\">8</span>, <span style=\"color: #00af00; text-decoration-color: #00af00\">8</span>, <span style=\"color: #00af00; text-decoration-color: #00af00\">128</span>)           │               <span style=\"color: #00af00; text-decoration-color: #00af00\">0</span> │\n",
              "├──────────────────────────────────────┼─────────────────────────────┼─────────────────┤\n",
              "│ flatten_2 (<span style=\"color: #0087ff; text-decoration-color: #0087ff\">Flatten</span>)                  │ (<span style=\"color: #00d7ff; text-decoration-color: #00d7ff\">None</span>, <span style=\"color: #00af00; text-decoration-color: #00af00\">8192</span>)                │               <span style=\"color: #00af00; text-decoration-color: #00af00\">0</span> │\n",
              "├──────────────────────────────────────┼─────────────────────────────┼─────────────────┤\n",
              "│ dense_4 (<span style=\"color: #0087ff; text-decoration-color: #0087ff\">Dense</span>)                      │ (<span style=\"color: #00d7ff; text-decoration-color: #00d7ff\">None</span>, <span style=\"color: #00af00; text-decoration-color: #00af00\">128</span>)                 │       <span style=\"color: #00af00; text-decoration-color: #00af00\">1,048,704</span> │\n",
              "├──────────────────────────────────────┼─────────────────────────────┼─────────────────┤\n",
              "│ dropout_5 (<span style=\"color: #0087ff; text-decoration-color: #0087ff\">Dropout</span>)                  │ (<span style=\"color: #00d7ff; text-decoration-color: #00d7ff\">None</span>, <span style=\"color: #00af00; text-decoration-color: #00af00\">128</span>)                 │               <span style=\"color: #00af00; text-decoration-color: #00af00\">0</span> │\n",
              "├──────────────────────────────────────┼─────────────────────────────┼─────────────────┤\n",
              "│ dense_5 (<span style=\"color: #0087ff; text-decoration-color: #0087ff\">Dense</span>)                      │ (<span style=\"color: #00d7ff; text-decoration-color: #00d7ff\">None</span>, <span style=\"color: #00af00; text-decoration-color: #00af00\">1</span>)                   │             <span style=\"color: #00af00; text-decoration-color: #00af00\">129</span> │\n",
              "└──────────────────────────────────────┴─────────────────────────────┴─────────────────┘\n",
              "</pre>\n"
            ]
          },
          "metadata": {}
        },
        {
          "output_type": "display_data",
          "data": {
            "text/plain": [
              "\u001b[1m Total params: \u001b[0m\u001b[38;5;34m1,142,081\u001b[0m (4.36 MB)\n"
            ],
            "text/html": [
              "<pre style=\"white-space:pre;overflow-x:auto;line-height:normal;font-family:Menlo,'DejaVu Sans Mono',consolas,'Courier New',monospace\"><span style=\"font-weight: bold\"> Total params: </span><span style=\"color: #00af00; text-decoration-color: #00af00\">1,142,081</span> (4.36 MB)\n",
              "</pre>\n"
            ]
          },
          "metadata": {}
        },
        {
          "output_type": "display_data",
          "data": {
            "text/plain": [
              "\u001b[1m Trainable params: \u001b[0m\u001b[38;5;34m1,142,081\u001b[0m (4.36 MB)\n"
            ],
            "text/html": [
              "<pre style=\"white-space:pre;overflow-x:auto;line-height:normal;font-family:Menlo,'DejaVu Sans Mono',consolas,'Courier New',monospace\"><span style=\"font-weight: bold\"> Trainable params: </span><span style=\"color: #00af00; text-decoration-color: #00af00\">1,142,081</span> (4.36 MB)\n",
              "</pre>\n"
            ]
          },
          "metadata": {}
        },
        {
          "output_type": "display_data",
          "data": {
            "text/plain": [
              "\u001b[1m Non-trainable params: \u001b[0m\u001b[38;5;34m0\u001b[0m (0.00 B)\n"
            ],
            "text/html": [
              "<pre style=\"white-space:pre;overflow-x:auto;line-height:normal;font-family:Menlo,'DejaVu Sans Mono',consolas,'Courier New',monospace\"><span style=\"font-weight: bold\"> Non-trainable params: </span><span style=\"color: #00af00; text-decoration-color: #00af00\">0</span> (0.00 B)\n",
              "</pre>\n"
            ]
          },
          "metadata": {}
        },
        {
          "output_type": "stream",
          "name": "stdout",
          "text": [
            "Epoch 1/5\n",
            "\u001b[1m313/313\u001b[0m \u001b[32m━━━━━━━━━━━━━━━━━━━━\u001b[0m\u001b[37m\u001b[0m \u001b[1m233s\u001b[0m 736ms/step - accuracy: 0.5610 - loss: 0.6884 - val_accuracy: 0.6748 - val_loss: 48.6047\n",
            "Epoch 2/5\n",
            "\u001b[1m313/313\u001b[0m \u001b[32m━━━━━━━━━━━━━━━━━━━━\u001b[0m\u001b[37m\u001b[0m \u001b[1m261s\u001b[0m 733ms/step - accuracy: 0.7202 - loss: 0.5430 - val_accuracy: 0.7166 - val_loss: 52.7812\n",
            "Epoch 3/5\n",
            "\u001b[1m313/313\u001b[0m \u001b[32m━━━━━━━━━━━━━━━━━━━━\u001b[0m\u001b[37m\u001b[0m \u001b[1m231s\u001b[0m 738ms/step - accuracy: 0.7683 - loss: 0.4844 - val_accuracy: 0.7342 - val_loss: 37.8479\n",
            "Epoch 4/5\n",
            "\u001b[1m313/313\u001b[0m \u001b[32m━━━━━━━━━━━━━━━━━━━━\u001b[0m\u001b[37m\u001b[0m \u001b[1m254s\u001b[0m 713ms/step - accuracy: 0.7914 - loss: 0.4460 - val_accuracy: 0.7598 - val_loss: 35.9481\n",
            "Epoch 5/5\n",
            "\u001b[1m313/313\u001b[0m \u001b[32m━━━━━━━━━━━━━━━━━━━━\u001b[0m\u001b[37m\u001b[0m \u001b[1m264s\u001b[0m 719ms/step - accuracy: 0.8196 - loss: 0.3956 - val_accuracy: 0.7762 - val_loss: 32.1874\n"
          ]
        },
        {
          "output_type": "execute_result",
          "data": {
            "text/plain": [
              "<keras.src.callbacks.history.History at 0x79a06e332950>"
            ]
          },
          "metadata": {},
          "execution_count": 25
        }
      ]
    }
  ]
}